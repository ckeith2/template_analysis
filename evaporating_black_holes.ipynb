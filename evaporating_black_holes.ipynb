{
 "cells": [
  {
   "cell_type": "code",
   "execution_count": 1,
   "metadata": {},
   "outputs": [],
   "source": [
    "import numpy as np\n",
    "import matplotlib.pyplot as plt\n",
    "import math\n",
    "from scipy.interpolate import interp1d\n",
    "import photon_spectrum\n",
    "from time import process_time\n",
    "from scipy.optimize import minimize, rosen, rosen_der, root, root_scalar\n",
    "import warnings\n",
    "import time\n",
    "warnings.filterwarnings(\"ignore\")\n",
    "from urllib.request import urlopen\n",
    "import astropy.io.fits as fits\n",
    "from matplotlib.colors import LogNorm\n",
    "import re\n",
    "import healpy as hp\n",
    "import importlib"
   ]
  },
  {
   "cell_type": "code",
   "execution_count": 2,
   "metadata": {},
   "outputs": [],
   "source": [
    "filelist = ['Bremss_00320087_E_50-814008_MeV_healpix_128.fits', 'Bremss_SL_Z6_R20_T100000_C5_E_50-814008_MeV_healpix_128.fits', 'pi0_Model_A_E_50-814008_MeV_healpix_128.fits', 'pi0_Model_F_E_50-814008_MeV_healpix_128.fits', 'ICS_Model_A_E_50-814008_MeV_healpix_128.fits', 'ICS_Model_F_E_50-814008_MeV_healpix_128.fits']\n",
    "\n",
    "\n",
    "def nfw_profile_density(r, gamma = 1, massBH = 1.5e17):\n",
    "    #need to eventually normalize to local density (4 GeV/cm^2)\n",
    "    #also normalize to fraction of DM in black holes\n",
    "    r_s = 20 #kpc\n",
    "    #make sure r is in kpc\n",
    "    rho_0 = get_rho0(massBH, gamma_forrho0 = gamma)\n",
    "    rho = rho_0/(r/r_s)**(gamma)/((1+r/r_s)**(3-gamma)) #.4 GeV/cm^3\n",
    "    return rho\n",
    "\n",
    "def get_rho0(massBH = 1.5e17, gamma_forrho0 = 1):\n",
    "    massBH_GeV = massBH*5.609e23 #to GeV\n",
    "    #calculating the initial rho_0\n",
    "    r = 8.25 #kpc\n",
    "    R_s = 20 #kpc\n",
    "    rho_NFW = 0.4/massBH_GeV #BHs/cm^3, should be BHs/cm^3\n",
    "    rho_0 = (r/R_s)**(gamma_forrho0)*rho_NFW*(1+r/R_s)**(3-gamma_forrho0)\n",
    "    #print('rho_0: {}'.format(rho_0))\n",
    "    #rho_0 = .257\n",
    "    return rho_0"
   ]
  },
  {
   "cell_type": "code",
   "execution_count": 3,
   "metadata": {},
   "outputs": [],
   "source": [
    "def i_hate_trig(theta, l):\n",
    "    R_GC = 8.25 #kpc\n",
    "    theta_radians = theta/180*np.pi\n",
    "\n",
    "    r = np.sqrt(l**2+R_GC**2-2*l*R_GC*math.cos(theta_radians))\n",
    "\n",
    "    #B = np.arcsin(l*np.sin(theta)/r)\n",
    "    #phi = 180-theta-B\n",
    "    \n",
    "    return r\n",
    "    \n",
    "    \n",
    "def range_over_l(theta, massofBH = 1.5e17, gamma_here = 1):\n",
    "    l = np.linspace(1, 60, 5000) #in kpc\n",
    "        \n",
    "    r = i_hate_trig(theta, l)\n",
    "    #print(r)\n",
    "\n",
    "    density = nfw_profile_density(r, massBH = massofBH, gamma = gamma_here)\n",
    "    #print(density)\n",
    "\n",
    "    \n",
    "    return l, density\n",
    "\n",
    "def get_deltaE(n):\n",
    "    energybins = np.concatenate(readfile(filelist[0])[38].data, axis = 0)\n",
    "    bins_in_lin = np.log10(energybins)[n]\n",
    "    spacing = 0.05691431\n",
    "    \n",
    "    high_bin = 10**(bins_in_lin + spacing)\n",
    "    low_bin = 10**(bins_in_lin - spacing)\n",
    "    \n",
    "    deltaE = np.abs(high_bin - low_bin)\n",
    "    #print('delta E: {}'.format(deltaE))\n",
    "    \n",
    "    return high_bin, low_bin\n",
    "\n",
    "def readfile(filename):\n",
    "    \"\"\"\n",
    "    A simple function to read the maps of a given number n and given filename.\n",
    "    \"\"\"\n",
    "    file_to_read = fits.open(filename)\n",
    "    return file_to_read\n",
    "\n",
    "    "
   ]
  },
  {
   "cell_type": "code",
   "execution_count": 22,
   "metadata": {},
   "outputs": [],
   "source": [
    "def get_long_lat(longlatboo = True):\n",
    "\n",
    "    filelist = ['Bremss_00320087_E_50-814008_MeV_healpix_128.fits', 'Bremss_SL_Z6_R20_T100000_C5_E_50-814008_MeV_healpix_128.fits', 'pi0_Model_A_E_50-814008_MeV_healpix_128.fits', 'pi0_Model_F_E_50-814008_MeV_healpix_128.fits', 'ICS_Model_A_E_50-814008_MeV_healpix_128.fits', 'ICS_Model_F_E_50-814008_MeV_healpix_128.fits']\n",
    "    hdu = fits.open(filelist[0])\n",
    "    numpix = np.linspace(0, hdu[0].header['NPIX']-1, num = hdu[0].header['NPIX'])\n",
    "    NSIDE = int(hdu[0].header['NSIDE'])\n",
    "    degrees = hp.pix2ang(NSIDE, np.array(numpix,dtype=np.int), lonlat = longlatboo)\n",
    "\n",
    "    #all indices within 20 deg\n",
    "    vec = hp.ang2vec(np.pi/2, 0)\n",
    "    ipix_disc20 = hp.query_disc(nside=NSIDE, vec=vec, radius=np.radians(20), inclusive = False)\n",
    "    \n",
    "    #all indices within 25 deg\n",
    "    ipix_disc25 = hp.query_disc(nside=NSIDE, vec=vec, radius=np.radians(25), inclusive = False)\n",
    "    \n",
    "    #the l and b values we want:\n",
    "    \n",
    "    testl = degrees[0][ipix_disc25]\n",
    "    testb = degrees[1][ipix_disc25]\n",
    "    \n",
    "    #need to find the values of testl that are greater than 200 and subtract 360 from them\n",
    "    \n",
    "    where_large = np.argwhere(testl > 200)\n",
    "    testl[where_large] = testl[where_large]-360\n",
    "\n",
    "    return np.array(testl), np.array(testb), ipix_disc20, ipix_disc25\n",
    "\n",
    "def get_j_factors(massBH = 1.5e17, gam = 1):\n",
    "\n",
    "    btest, ltest, indices20, indices25 = get_long_lat()\n",
    "\n",
    "    thetas = np.sqrt(btest**2+ltest**2)\n",
    "    \n",
    "    integral = []\n",
    "    \n",
    "    #ls are in kpc\n",
    "    \n",
    "    for theta in thetas:\n",
    "        #get the NFW density, and the lengths\n",
    "        theta = np.abs(theta)\n",
    "        ls, rho = range_over_l(theta, massofBH = massBH, gamma_here = gam)\n",
    "        n_BH = rho #*1e-4 #this also includes rho_0, can also use 1e-4 for PBH as DM \n",
    "        ls_incm3 = ls*3.086e21\n",
    "        integral.append(np.trapz(n_BH, x = ls_incm3)) #trapezoidal rule, with n_Bh on y axis and the length on x\n",
    "    integral = np.asarray(integral) #in GeV/cm^2?\n",
    "    \n",
    "        \n",
    "    return thetas, integral, indices20, indices25 #*lum/4/np.pi #units of GeV/cm^-2? \n",
    "\n",
    "def find_nearest(array, value):\n",
    "    array = np.asarray(array)\n",
    "    idx = (np.abs(array - value)).argmin()\n",
    "    return idx\n",
    "\n",
    "def get_dNdE(egamma_values, energy_index, gamma = 1, mass = 2e16, for_normals = False):\n",
    "    #may need to integrate over this eventually\n",
    "    thetas, integral, indices20, indices25 = get_j_factors(massBH = mass, gam = gamma) #in GeV/cm^-2\n",
    "    \n",
    "    #eventually make it so this is only calculated once per mass_bh\n",
    "    lum = (photon_spectrum.get_integral(egamma_values, mass_bh = mass)[1]*1e3) #units of photons per GeV per sec per BH\n",
    "    #need to integrate luminosity over energy bin\n",
    "    energy_bin_min_max = get_deltaE(energy_index)\n",
    "    high_idx = find_nearest(energies, energy_bin_min_max[0])\n",
    "    low_idx = find_nearest(energies, energy_bin_min_max[1])\n",
    "\n",
    "    lum_final = np.trapz(lum[low_idx:high_idx], x = energies[low_idx:high_idx]) #now in photons per sec\n",
    "    \n",
    "    #now we need to add the integral back into the array where it was originally\n",
    "    blank_array = np.empty(196608)\n",
    "    blank_array[:] = 0\n",
    "    \n",
    "    tempBH_ev = (1/photon_spectrum.inverseT(mass)) #mass in GeV\n",
    "    #print('temp: {}'.format(tempBH_ev))\n",
    "    \n",
    "    count = 0\n",
    "    blank_array[indices25] = integral\n",
    "    #frac BH in units of % dark matter in black holes\n",
    "    \n",
    "    if for_normals:\n",
    "        #need to only return the inner 20 degrees\n",
    "        new_arr = blank_array[indices20]\n",
    "        return thetas, new_arr*lum_final/tempBH_ev/4/np.pi#/5938\n",
    "    \n",
    "    return thetas, blank_array*lum_final/tempBH_ev/4/np.pi #units of photons per str per sec per cm^2\n"
   ]
  },
  {
   "cell_type": "code",
   "execution_count": 17,
   "metadata": {},
   "outputs": [
    {
     "name": "stdout",
     "output_type": "stream",
     "text": [
      "temp: 0.106\n"
     ]
    }
   ],
   "source": [
    "tempBH_ev = (1/photon_spectrum.inverseT(1e14)) #mass in GeV\n",
    "print('temp: {}'.format(tempBH_ev))\n"
   ]
  },
  {
   "cell_type": "code",
   "execution_count": 7,
   "metadata": {},
   "outputs": [],
   "source": [
    "energies = np.logspace(np.log10(10), np.log10(1e6), num = 1000)\n",
    "#energies = np.logspace(np.log10(.027), np.log10(500), num = 1000)\n",
    "egamma_values = photon_spectrum.get_egammas(energies)"
   ]
  },
  {
   "cell_type": "code",
   "execution_count": 8,
   "metadata": {},
   "outputs": [
    {
     "name": "stdout",
     "output_type": "stream",
     "text": [
      "1000\n"
     ]
    }
   ],
   "source": [
    "print(len(egamma_values[0]))"
   ]
  },
  {
   "cell_type": "code",
   "execution_count": 14,
   "metadata": {},
   "outputs": [],
   "source": [
    "jfacs = get_j_factors(massBH = 1.5e17, gam = 1)"
   ]
  },
  {
   "cell_type": "code",
   "execution_count": 23,
   "metadata": {},
   "outputs": [],
   "source": [
    "importlib.reload(photon_spectrum)\n",
    "dnde = get_dNdE(egamma_values, energy_index = 0, gamma = 1.8, mass = 2e14, frac_BHs = 1)"
   ]
  },
  {
   "cell_type": "code",
   "execution_count": 91,
   "metadata": {},
   "outputs": [
    {
     "name": "stdout",
     "output_type": "stream",
     "text": [
      "1000\n",
      "38\n"
     ]
    }
   ],
   "source": [
    "print(len(egamma_values))\n",
    "print(len(egamma_values[0]))"
   ]
  },
  {
   "cell_type": "code",
   "execution_count": 24,
   "metadata": {},
   "outputs": [
    {
     "data": {
      "image/png": "[encoded data removed]",
      "text/plain": [
       "<Figure size 612x388.8 with 2 Axes>"
      ]
     },
     "metadata": {
      "needs_background": "light"
     },
     "output_type": "display_data"
    }
   ],
   "source": [
    "hp.mollview(np.log10(dnde[1]), coord = 'G')"
   ]
  },
  {
   "cell_type": "code",
   "execution_count": null,
   "metadata": {},
   "outputs": [],
   "source": []
  }
 ],
 "metadata": {
  "kernelspec": {
   "display_name": "Python 3",
   "language": "python",
   "name": "python3"
  },
  "language_info": {
   "codemirror_mode": {
    "name": "ipython",
    "version": 3
   },
   "file_extension": ".py",
   "mimetype": "text/x-python",
   "name": "python",
   "nbconvert_exporter": "python",
   "pygments_lexer": "ipython3",
   "version": "3.7.6"
  }
 },
 "nbformat": 4,
 "nbformat_minor": 4
}
