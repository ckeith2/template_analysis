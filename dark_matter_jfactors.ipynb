{
 "cells": [
  {
   "cell_type": "code",
   "execution_count": 1,
   "metadata": {},
   "outputs": [],
   "source": [
    "import matplotlib.pyplot as plt\n",
    "from matplotlib import transforms\n",
    "from matplotlib import rc\n",
    "from IPython.display import Image\n",
    "import numpy as np\n",
    "from astropy.io import fits as pyfits\n",
    "from astropy.io import fits\n",
    "from scipy.ndimage import gaussian_filter\n",
    "import scipy\n",
    "from scipy.optimize import minimize, rosen, rosen_der\n",
    "from scipy.special import factorial\n",
    "import scipy.integrate as integrate\n",
    "from scipy.integrate import quad\n",
    "from itertools import starmap\n",
    "from scipy import optimize\n",
    "import corner\n",
    "import time\n",
    "from mpl_toolkits import mplot3d\n",
    "import healpy as hp\n",
    "from scipy import nan\n",
    "import math"
   ]
  },
  {
   "cell_type": "code",
   "execution_count": 2,
   "metadata": {},
   "outputs": [],
   "source": [
    "def nfw_profile_density(r, gamma = 1):\n",
    "    #need to eventually normalize to local density (4 GeV/cm^2)\n",
    "    #also normalize to fraction of DM in black holes\n",
    "    r_s = 20 #kpc\n",
    "    #make sure r is in kpc\n",
    "    #rho_0 = get_rho0(massBH, gamma_forrho0 = gamma)\n",
    "    rho_0 = get_rho0() #GeV/cm^3\n",
    "    rho = rho_0/(r/r_s)**(gamma)/((1+r/r_s)**(3-gamma)) #.4 GeV/cm^3\n",
    "    return rho\n",
    "\n",
    "def get_rho0(gamma_forrho0 = 1):\n",
    "    #calculating the initial rho_0\n",
    "    r = 8.25 #kpc\n",
    "    R_s = 20 #kpc\n",
    "    rho_NFW = 0.4 #BHs/cm^3, should be BHs/cm^3\n",
    "    rho_0 = (r/R_s)**(gamma_forrho0)*rho_NFW*(1+r/R_s)**(3-gamma_forrho0)\n",
    "    #print('rho_0: {}'.format(rho_0))\n",
    "    #rho_0 = .257\n",
    "    return rho_0"
   ]
  },
  {
   "cell_type": "code",
   "execution_count": 3,
   "metadata": {},
   "outputs": [],
   "source": [
    "def i_hate_trig(theta, l):\n",
    "    R_GC = 8.25 #kpc\n",
    "    theta_radians = theta/180*np.pi\n",
    "\n",
    "    r = np.sqrt(l**2+R_GC**2-2*l*R_GC*math.cos(theta_radians))\n",
    "\n",
    "    #B = np.arcsin(l*np.sin(theta)/r)\n",
    "    #phi = 180-theta-B\n",
    "    \n",
    "    return r\n",
    "    \n",
    "    \n",
    "def range_over_l(theta, gamma_here = 1):\n",
    "    l = np.linspace(1, 60, 10000) #in kpc\n",
    "    r = i_hate_trig(theta, l)\n",
    "    #print(r)\n",
    "\n",
    "    density = nfw_profile_density(r, gamma = gamma_here)\n",
    "    #print(density)\n",
    "\n",
    "    \n",
    "    return l, density"
   ]
  },
  {
   "cell_type": "code",
   "execution_count": 12,
   "metadata": {},
   "outputs": [],
   "source": [
    "def get_long_lat(longlatboo = True):\n",
    "\n",
    "    filelist = ['Bremss_00320087_E_50-814008_MeV_healpix_128.fits', 'Bremss_SL_Z6_R20_T100000_C5_E_50-814008_MeV_healpix_128.fits', 'pi0_Model_A_E_50-814008_MeV_healpix_128.fits', 'pi0_Model_F_E_50-814008_MeV_healpix_128.fits', 'ICS_Model_A_E_50-814008_MeV_healpix_128.fits', 'ICS_Model_F_E_50-814008_MeV_healpix_128.fits']\n",
    "    hdu = fits.open(filelist[0])\n",
    "    numpix = np.linspace(0, hdu[0].header['NPIX']-1, num = hdu[0].header['NPIX'])\n",
    "    NSIDE = int(hdu[0].header['NSIDE'])\n",
    "    degrees = hp.pix2ang(NSIDE, np.array(numpix,dtype=np.int), lonlat = longlatboo)\n",
    "    \n",
    "    #print(degrees[0]) #longitude l\n",
    "    #print(degrees[1]) #latitude b\n",
    "    \n",
    "\n",
    "    \n",
    "    inner_20_pos = np.where(np.sqrt((degrees[0])**2+degrees[1]**2)<= 20)\n",
    "    inner_20_neg = np.where(np.sqrt((degrees[0]-360)**2+(degrees[1])**2)<= 20)\n",
    "    testb = list(degrees[1][inner_20_pos])+list(degrees[1][inner_20_neg])\n",
    "    testl = list(degrees[0][inner_20_pos])+list(degrees[0][inner_20_neg]-360) #<------ this is where that weird line comes from\n",
    "    \n",
    "    '''\n",
    "    plt.hist(testb, color = 'red', bins = 40)\n",
    "    plt.title('b')\n",
    "    plt.show()\n",
    "    plt.hist(testl, color = 'green', bins = 40)\n",
    "    plt.title('l')\n",
    "    plt.show()\n",
    "    asdfasd\n",
    "    '''\n",
    "    \n",
    "    #trueb = list(degrees[1][inner_20_pos])+list(degrees[1][inner_20_neg])\n",
    "    #truel = list(degrees[0][inner_20_pos])+list(degrees[0][inner_20_neg])\n",
    "\n",
    "    return np.array(testb), np.array(testl)\n",
    "    #return np.array(degrees[1]), np.array(degrees[0])\n",
    "    \n",
    "def get_j_factors(gam = 1):\n",
    "\n",
    "    btest, ltest = get_long_lat()\n",
    "\n",
    "    #btest = np.asarray([ 15.71386105, -15.71386105])\n",
    "    #ltest = np.asarray([359.6484375, 359.6484375])\n",
    "    thetas = np.sqrt(btest**2+ltest**2)\n",
    "\n",
    "    integral = []\n",
    "    \n",
    "    #ls are in kpc\n",
    "    \n",
    "    for theta in thetas:\n",
    "        #get the NFW density, and the lengths\n",
    "        ls, rho = range_over_l(theta, gamma_here = gam)\n",
    "        n_BH = rho #*1e-4 #this also includes rho_0, can also use 1e-4 for PBH as DM \n",
    "        ls_incm3 = ls*3.086e21\n",
    "        integral.append(np.trapz(n_BH**2, x = ls_incm3)) #trapezoidal rule, with n_Bh on y axis and the length on x\n",
    "    integral = np.asarray(integral) #in GeV/cm^2?\n",
    "    \n",
    "    print(integral)\n",
    "        \n",
    "    return thetas, integral#*lum/4/np.pi #units of GeV/cm^-2? \n",
    "\n",
    "\n",
    "def make_image(integral):\n",
    "    \n",
    "    b, l = get_long_lat()\n",
    "    hdu = fits.open('Bremss_00320087_E_50-814008_MeV_healpix_128.fits')\n",
    "    numpix = np.linspace(0, hdu[0].header['NPIX']-1, num = hdu[0].header['NPIX'])\n",
    "    NSIDE = int(hdu[0].header['NSIDE'])\n",
    "    index = hp.ang2pix(NSIDE, l, b, lonlat = True)\n",
    "\n",
    "    degrees = hp.pix2ang(NSIDE, np.array(numpix,dtype=np.int), lonlat = True)\n",
    "    \n",
    "    inner_20_pos = (np.sqrt((degrees[0])**2+degrees[1]**2)> 20)\n",
    "    inner_20_neg = (np.sqrt((degrees[0]-360)**2+degrees[1]**2)> 20)\n",
    "    inner_20 = np.logical_and(inner_20_pos, inner_20_neg)\n",
    "    \n",
    "    data4 = hdu[0].data\n",
    "    test20 = np.copy(data4)\n",
    "    test20[inner_20] = np.nan\n",
    "    test20[index] = integral*1e-30\n",
    "    print(test20.shape)\n",
    "    \n",
    "    print(b[np.where(integral == np.nanmax(integral))])\n",
    "    print(l[np.where(integral == np.nanmax(integral))])\n",
    "        \n",
    "    #hp.mollview(np.log10(np.log10(test20)), rot=(0,0,90))\n",
    "    hp.mollview(np.log10(test20))\n",
    "    \n",
    "def get_dNdE(gamma = 1):\n",
    "    thetas, integral = get_j_factors(gam = gamma) #in GeV^2/cm^2\n",
    "    return thetas, integral/2*2.2e-26/100**2/4/np.pi\n",
    "\n"
   ]
  },
  {
   "cell_type": "code",
   "execution_count": 13,
   "metadata": {},
   "outputs": [
    {
     "name": "stdout",
     "output_type": "stream",
     "text": [
      "2.191868218998373e-05\n",
      "5910\n"
     ]
    }
   ],
   "source": [
    "print(np.nanmax(integral))\n",
    "print(len(integral))\n"
   ]
  },
  {
   "cell_type": "code",
   "execution_count": 14,
   "metadata": {},
   "outputs": [
    {
     "name": "stderr",
     "output_type": "stream",
     "text": [
      "/Users/ckeith/anaconda3/envs/python37/lib/python3.7/site-packages/ipykernel_launcher.py:7: DeprecationWarning: `np.int` is a deprecated alias for the builtin `int`. To silence this warning, use `int` by itself. Doing this will not modify any behavior and is safe. When replacing `np.int`, you may wish to use e.g. `np.int64` or `np.int32` to specify the precision. If you wish to review your current use, check the release note link for additional information.\n",
      "Deprecated in NumPy 1.20; for more details and guidance: https://numpy.org/devdocs/release/1.20.0-notes.html#deprecations\n",
      "  import sys\n"
     ]
    },
    {
     "name": "stdout",
     "output_type": "stream",
     "text": [
      "[5.95069249e+22 5.94444829e+22 5.92579599e+22 ... 5.89497374e+22\n",
      " 5.92579599e+22 5.94444829e+22]\n",
      "(196608,)\n",
      "[ 0.29841687 -0.29841687]\n",
      "[0. 0.]\n"
     ]
    },
    {
     "name": "stderr",
     "output_type": "stream",
     "text": [
      "/Users/ckeith/anaconda3/envs/python37/lib/python3.7/site-packages/ipykernel_launcher.py:68: DeprecationWarning: `np.int` is a deprecated alias for the builtin `int`. To silence this warning, use `int` by itself. Doing this will not modify any behavior and is safe. When replacing `np.int`, you may wish to use e.g. `np.int64` or `np.int32` to specify the precision. If you wish to review your current use, check the release note link for additional information.\n",
      "Deprecated in NumPy 1.20; for more details and guidance: https://numpy.org/devdocs/release/1.20.0-notes.html#deprecations\n"
     ]
    },
    {
     "data": {
      "image/png": "[encoded data removed]",
      "text/plain": [
       "<Figure size 612x388.8 with 2 Axes>"
      ]
     },
     "metadata": {
      "needs_background": "light"
     },
     "output_type": "display_data"
    }
   ],
   "source": [
    "thetas, integral = get_dNdE()\n",
    "make_image(integral)\n"
   ]
  },
  {
   "cell_type": "code",
   "execution_count": 459,
   "metadata": {},
   "outputs": [
    {
     "name": "stdout",
     "output_type": "stream",
     "text": [
      "1.961834919216037e-07\n"
     ]
    }
   ],
   "source": [
    "print(np.mean(integral))\n"
   ]
  },
  {
   "cell_type": "code",
   "execution_count": 167,
   "metadata": {},
   "outputs": [],
   "source": []
  },
  {
   "cell_type": "code",
   "execution_count": 85,
   "metadata": {},
   "outputs": [
    {
     "data": {
      "image/png": "[encoded data removed]",
      "text/plain": [
       "<Figure size 612x388.8 with 2 Axes>"
      ]
     },
     "metadata": {
      "needs_background": "light"
     },
     "output_type": "display_data"
    }
   ],
   "source": []
  },
  {
   "cell_type": "code",
   "execution_count": 79,
   "metadata": {},
   "outputs": [
    {
     "name": "stdout",
     "output_type": "stream",
     "text": [
      "5910\n"
     ]
    }
   ],
   "source": [
    "print(len(integral))"
   ]
  },
  {
   "cell_type": "code",
   "execution_count": 78,
   "metadata": {},
   "outputs": [
    {
     "data": {
      "text/plain": [
       "<matplotlib.collections.PathCollection at 0x7fa236990fd0>"
      ]
     },
     "execution_count": 78,
     "metadata": {},
     "output_type": "execute_result"
    },
    {
     "data": {
      "image/png": "[encoded data removed]",
      "text/plain": [
       "<Figure size 432x288 with 1 Axes>"
      ]
     },
     "metadata": {
      "needs_background": "light"
     },
     "output_type": "display_data"
    }
   ],
   "source": [
    "plt.scatter(thetas, integral)"
   ]
  },
  {
   "cell_type": "code",
   "execution_count": null,
   "metadata": {},
   "outputs": [],
   "source": []
  }
 ],
 "metadata": {
  "kernelspec": {
   "display_name": "Python 3",
   "language": "python",
   "name": "python3"
  },
  "language_info": {
   "codemirror_mode": {
    "name": "ipython",
    "version": 3
   },
   "file_extension": ".py",
   "mimetype": "text/x-python",
   "name": "python",
   "nbconvert_exporter": "python",
   "pygments_lexer": "ipython3",
   "version": "3.7.6"
  }
 },
 "nbformat": 4,
 "nbformat_minor": 4
}
