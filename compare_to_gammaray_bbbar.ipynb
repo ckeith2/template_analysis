{
 "cells": [
  {
   "cell_type": "code",
   "execution_count": 111,
   "metadata": {},
   "outputs": [],
   "source": [
    "import matplotlib.pyplot as plt\n",
    "import numpy as np\n",
    "from scipy.interpolate import interp1d\n",
    "import scipy as sp\n",
    "import scipy.interpolate"
   ]
  },
  {
   "cell_type": "code",
   "execution_count": 183,
   "metadata": {},
   "outputs": [],
   "source": [
    "x = np.loadtxt('yield_DS_keith100.dat', dtype=str).T"
   ]
  },
  {
   "cell_type": "code",
   "execution_count": 184,
   "metadata": {},
   "outputs": [],
   "source": [
    "energies, yieldperann = np.loadtxt('test_darksusy.csv', dtype = 'float', delimiter = ',').T\n",
    "energies = energies*1e3"
   ]
  },
  {
   "cell_type": "code",
   "execution_count": 185,
   "metadata": {},
   "outputs": [],
   "source": [
    "energies = x[1].astype(np.float)*1e3 #in MeV\n",
    "yieldperann = x[2].astype(np.float)/1e3 #in per MeV\n",
    "\n",
    "highe = 8.14008272e+05\n",
    "\n",
    "lowe = 1e5"
   ]
  },
  {
   "cell_type": "code",
   "execution_count": 186,
   "metadata": {},
   "outputs": [
    {
     "name": "stdout",
     "output_type": "stream",
     "text": [
      "99988.8\n"
     ]
    }
   ],
   "source": [
    "print(np.nanmax(energies))"
   ]
  },
  {
   "cell_type": "code",
   "execution_count": 187,
   "metadata": {},
   "outputs": [],
   "source": [
    "good_energies = np.where((energies <=highe) & (energies >= lowe))"
   ]
  },
  {
   "cell_type": "code",
   "execution_count": 188,
   "metadata": {},
   "outputs": [
    {
     "name": "stdout",
     "output_type": "stream",
     "text": [
      "0\n"
     ]
    }
   ],
   "source": [
    "print(len(good_energies[0]))"
   ]
  },
  {
   "cell_type": "code",
   "execution_count": 130,
   "metadata": {},
   "outputs": [],
   "source": [
    "final_integral = np.trapz(yieldperann[good_energies], x = energies[good_energies])"
   ]
  },
  {
   "cell_type": "code",
   "execution_count": 131,
   "metadata": {},
   "outputs": [
    {
     "name": "stdout",
     "output_type": "stream",
     "text": [
      "15.668602483449998\n"
     ]
    }
   ],
   "source": [
    "print(final_integral)"
   ]
  },
  {
   "cell_type": "code",
   "execution_count": 114,
   "metadata": {},
   "outputs": [],
   "source": [
    "def log_interp1d(xx, yy, kind='linear'):\n",
    "    logx = np.log10(xx)\n",
    "    logy = np.log10(yy)\n",
    "    lin_interp = sp.interpolate.interp1d(logx, logy, kind=kind)\n",
    "    log_interp = lambda zz: np.power(10.0, lin_interp(np.log10(zz)))\n",
    "    return log_interp"
   ]
  },
  {
   "cell_type": "code",
   "execution_count": 115,
   "metadata": {},
   "outputs": [],
   "source": [
    "xarr = np.logspace(np.log10(np.nanmin(correct_plot[0])), np.log10(np.nanmax(correct_plot[0])), num = 100)\n",
    "yarr = log_interp1d(correct_plot[0], correct_plot[1])"
   ]
  },
  {
   "cell_type": "code",
   "execution_count": 116,
   "metadata": {},
   "outputs": [
    {
     "name": "stdout",
     "output_type": "stream",
     "text": [
      "[  1.08956406   1.15229269   1.21863274   1.28879214   1.36299077\n",
      "   1.44146118   1.52444931   1.61221525   1.70503406   1.80319667\n",
      "   1.90701071   2.01680156   2.13291332   2.25570988   2.38557612\n",
      "   2.52291904   2.6681691    2.82178154   2.98423778   3.15604698\n",
      "   3.33774763   3.52990919   3.73313391   3.94805874   4.17535726\n",
      "   4.41574187   4.66996596   4.93882629   5.2231655    5.52387476\n",
      "   5.84189652   6.1782275    6.53392181   6.91009422   7.30792372\n",
      "   7.72865715   8.17361313   8.64418623   9.14185126   9.66816798\n",
      "  10.22478592  10.81344959  11.43600394  12.09440013  12.79070166\n",
      "  13.52709081  14.30587552  15.12949661  16.00053539  16.92172181\n",
      "  17.89594298  18.92625224  20.01587868  21.16823735  22.38693987\n",
      "  23.67580581  25.03887463  26.48041835  28.00495495  29.61726251\n",
      "  31.32239421  33.12569413  35.03281404  37.04973109  39.18276654\n",
      "  41.43860558  43.8243183   46.34738181  49.0157037   51.83764681\n",
      "  54.82205547  57.97828318  61.31622193  64.84633325  68.57968093\n",
      "  72.52796574  76.70356209  81.11955682  85.78979018  90.72889928\n",
      "  95.95236387 101.47655494 107.31878598 113.49736725 120.0316632\n",
      " 126.94215311 134.25049529 141.97959499 150.15367616 158.79835737\n",
      " 167.94073211 177.6094537  187.83482511 198.6488939  210.08555269\n",
      " 222.18064537 234.97207944 248.49994484 262.80663954 277.93700249]\n"
     ]
    }
   ],
   "source": [
    "print(xarr)"
   ]
  },
  {
   "cell_type": "code",
   "execution_count": 117,
   "metadata": {},
   "outputs": [
    {
     "data": {
      "text/plain": [
       "Text(0, 0.5, '$\\\\frac{dN}{dt}$ (GeV$^{-1}$)')"
      ]
     },
     "execution_count": 117,
     "metadata": {},
     "output_type": "execute_result"
    },
    {
     "data": {
      "image/png": "[encoded data removed]",
      "text/plain": [
       "<Figure size 432x288 with 1 Axes>"
      ]
     },
     "metadata": {
      "needs_background": "light"
     },
     "output_type": "display_data"
    }
   ],
   "source": [
    "plt.scatter(correct_plot[0], correct_plot[1], color = 'black')\n",
    "plt.plot(xarr, yarr(xarr), color = 'blue')\n",
    "\n",
    "plt.plot(x[1], x[2])\n",
    "plt.yscale('log')\n",
    "plt.xscale('log')\n",
    "plt.xlim(1, 500)\n",
    "plt.ylim(1e-5, 1e2)\n",
    "plt.xlabel(r'$E_{\\gamma}$ (GeV)')\n",
    "plt.ylabel(r'$\\frac{dN}{dt}$ (GeV$^{-1}$)')"
   ]
  },
  {
   "cell_type": "code",
   "execution_count": null,
   "metadata": {},
   "outputs": [],
   "source": []
  }
 ],
 "metadata": {
  "kernelspec": {
   "display_name": "Python 3",
   "language": "python",
   "name": "python3"
  },
  "language_info": {
   "codemirror_mode": {
    "name": "ipython",
    "version": 3
   },
   "file_extension": ".py",
   "mimetype": "text/x-python",
   "name": "python",
   "nbconvert_exporter": "python",
   "pygments_lexer": "ipython3",
   "version": "3.7.6"
  }
 },
 "nbformat": 4,
 "nbformat_minor": 4
}
