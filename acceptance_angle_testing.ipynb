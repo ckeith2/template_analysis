{
 "cells": [
  {
   "cell_type": "code",
   "execution_count": 14,
   "metadata": {},
   "outputs": [],
   "source": [
    "import scipy as sp\n",
    "import scipy.interpolate\n",
    "import numpy as np\n",
    "import matplotlib.pyplot as plt\n",
    "import scipy as sp\n",
    "import scipy.interpolate\n"
   ]
  },
  {
   "cell_type": "code",
   "execution_count": 27,
   "metadata": {},
   "outputs": [],
   "source": [
    "location = './acceptance_angle/'\n",
    "\n",
    "#angle and acceptance as a function of energy\n",
    "csv_foracceptance = 'acceptance.csv'\n",
    "csv_forangle = 'containment_angle.csv'"
   ]
  },
  {
   "cell_type": "code",
   "execution_count": 28,
   "metadata": {},
   "outputs": [],
   "source": [
    "energy_list = np.logspace(np.log10(1e0), np.log10(1e6))"
   ]
  },
  {
   "cell_type": "code",
   "execution_count": 29,
   "metadata": {},
   "outputs": [],
   "source": [
    "def log_interp1d(xx, yy, kind='linear'):\n",
    "    logx = np.log10(xx)\n",
    "    logy = np.log10(yy)\n",
    "    lin_interp = sp.interpolate.interp1d(logx, logy, kind=kind, fill_value = 'extrapolate')\n",
    "    log_interp = lambda zz: np.power(10.0, lin_interp(np.log10(zz)))\n",
    "    return log_interp\n",
    "\n",
    "def get_acceptance_interp():\n",
    "    accept = np.loadtxt(location + csv_foracceptance, delimiter = ',', dtype = float).T\n",
    "    \n",
    "    #plt.scatter(accept[0], accept[1]*1e4)\n",
    "    #plt.xscale('log')\n",
    "    \n",
    "    return log_interp1d(accept[0], accept[1]*1e4)\n",
    "\n",
    "def get_angle_interp():\n",
    "    angle = np.loadtxt(location + csv_forangle, delimiter = ',', dtype = float).T\n",
    "    print(angle)\n",
    "    \n",
    "    plt.scatter(angle[0], angle[1])\n",
    "    plt.xscale('log')\n",
    "    \n",
    "    return log_interp1d(angle[0], angle[1])\n",
    "\n",
    "    "
   ]
  },
  {
   "cell_type": "code",
   "execution_count": 30,
   "metadata": {},
   "outputs": [
    {
     "name": "stdout",
     "output_type": "stream",
     "text": [
      "[[1.00918904e+01 1.77264710e+01 3.16428794e+01 5.55982969e+01\n",
      "  9.92837294e+01 1.77294260e+02 3.16620053e+02 5.56527710e+02\n",
      "  9.93810056e+02 1.74661614e+03 3.11918554e+03 5.48092487e+03\n",
      "  9.78379987e+03 1.74614309e+04 3.11483412e+04 5.55531354e+04\n",
      "  9.74758053e+04 1.73804852e+05 3.05041368e+05 5.44007948e+05\n",
      "  9.70300028e+05 1.70306034e+06 3.13658674e+06]\n",
      " [2.23899404e+01 1.64862768e+01 1.19231764e+01 8.02695375e+00\n",
      "  5.21347280e+00 3.38612872e+00 2.16021831e+00 1.30606083e+00\n",
      "  8.48281034e-01 5.31581506e-01 3.39128308e-01 2.24254240e-01\n",
      "  1.62184761e-01 1.23773006e-01 1.09018250e-01 1.01325555e-01\n",
      "  1.01177876e-01 1.01026202e-01 9.39013658e-02 8.88533617e-02\n",
      "  8.11169243e-02 7.40571824e-02 6.88257213e-02]]\n",
      "<function log_interp1d.<locals>.<lambda> at 0x7f9906013560>\n"
     ]
    },
    {
     "data": {
      "image/png": "[encoded data removed]",
      "text/plain": [
       "<Figure size 432x288 with 1 Axes>"
      ]
     },
     "metadata": {
      "needs_background": "light"
     },
     "output_type": "display_data"
    }
   ],
   "source": [
    "#get interpolation function of acceptance and angle\n",
    "accept = get_acceptance_interp()\n",
    "angle = get_angle_interp()\n",
    "\n",
    "print(angle)\n"
   ]
  },
  {
   "cell_type": "code",
   "execution_count": 37,
   "metadata": {},
   "outputs": [
    {
     "name": "stdout",
     "output_type": "stream",
     "text": [
      "8.647833504459278\n",
      "752.6579605711846\n"
     ]
    }
   ],
   "source": [
    "print(angle(50))\n",
    "print(accept(10))"
   ]
  },
  {
   "cell_type": "code",
   "execution_count": 17,
   "metadata": {},
   "outputs": [
    {
     "name": "stdout",
     "output_type": "stream",
     "text": [
      "21786.799050651483\n"
     ]
    }
   ],
   "source": [
    "print(accept(313.1629103579625))"
   ]
  },
  {
   "cell_type": "code",
   "execution_count": 15,
   "metadata": {},
   "outputs": [],
   "source": [
    "interp = accept(energy_list)\n",
    "test_energy = 313.1629103579625\n"
   ]
  },
  {
   "cell_type": "code",
   "execution_count": 16,
   "metadata": {},
   "outputs": [
    {
     "data": {
      "text/plain": [
       "(0.1, 1000000.0)"
      ]
     },
     "execution_count": 16,
     "metadata": {},
     "output_type": "execute_result"
    },
    {
     "data": {
      "image/png": "[encoded data removed]",
      "text/plain": [
       "<Figure size 432x288 with 1 Axes>"
      ]
     },
     "metadata": {
      "needs_background": "light"
     },
     "output_type": "display_data"
    }
   ],
   "source": [
    "plt.scatter(energy_list, interp)\n",
    "plt.scatter(test_energy, accept(test_energy), color = 'black')\n",
    "plt.hlines(.2*4*np.pi*8500, 0, 1e50)\n",
    "plt.xscale('log')\n",
    "plt.yscale('log')\n",
    "plt.xlim(1e-1, 1e6)"
   ]
  },
  {
   "cell_type": "code",
   "execution_count": 23,
   "metadata": {},
   "outputs": [
    {
     "name": "stdout",
     "output_type": "stream",
     "text": [
      "1676.8329368110067\n",
      "3.885193756775937\n"
     ]
    }
   ],
   "source": [
    "print(energy_list[15])\n",
    "print(.2*4*np.pi*8500/accept(1676.8329368110067))"
   ]
  },
  {
   "cell_type": "code",
   "execution_count": 27,
   "metadata": {},
   "outputs": [
    {
     "name": "stdout",
     "output_type": "stream",
     "text": [
      "308.88435964774817\n"
     ]
    }
   ],
   "source": [
    "print(energy_list[6])"
   ]
  },
  {
   "cell_type": "code",
   "execution_count": null,
   "metadata": {},
   "outputs": [],
   "source": []
  }
 ],
 "metadata": {
  "kernelspec": {
   "display_name": "Python 3",
   "language": "python",
   "name": "python3"
  },
  "language_info": {
   "codemirror_mode": {
    "name": "ipython",
    "version": 3
   },
   "file_extension": ".py",
   "mimetype": "text/x-python",
   "name": "python",
   "nbconvert_exporter": "python",
   "pygments_lexer": "ipython3",
   "version": "3.7.6"
  }
 },
 "nbformat": 4,
 "nbformat_minor": 4
}
